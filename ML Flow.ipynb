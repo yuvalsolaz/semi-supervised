{
 "cells": [
  {
   "cell_type": "code",
   "execution_count": 2,
   "metadata": {},
   "outputs": [
    {
     "name": "stdout",
     "output_type": "stream",
     "text": [
      "Collecting mlflow\n",
      "\u001b[?25l  Downloading https://files.pythonhosted.org/packages/45/ec/7e1ed22737b28192d978c20bf8c96533472b914fd56aef2cda6fedf046d1/mlflow-0.3.0.tar.gz (4.3MB)\n",
      "\u001b[K    100% |████████████████████████████████| 4.3MB 2.3MB/s ta 0:00:01\n",
      "\u001b[?25hCollecting awscli (from mlflow)\n",
      "\u001b[?25l  Downloading https://files.pythonhosted.org/packages/44/48/3712e0bb0c5b7ce66d29a736ffca03af07ad4b8d05c7bc4faea81e1eda1a/awscli-1.15.63-py2.py3-none-any.whl (1.3MB)\n",
      "\u001b[K    100% |████████████████████████████████| 1.3MB 12.8MB/s ta 0:00:01\n",
      "\u001b[?25hRequirement already satisfied: click>=6.7 in /home/yuval/anaconda3/lib/python3.6/site-packages (from mlflow) (6.7)\n",
      "Collecting databricks-cli (from mlflow)\n",
      "  Downloading https://files.pythonhosted.org/packages/58/78/4bda6f29a091ab7b0ad29efdba2491e5d0b56bd09d608857e6f0b799be48/databricks-cli-0.7.2.tar.gz\n",
      "Requirement already satisfied: requests>=2.17.3 in /home/yuval/anaconda3/lib/python3.6/site-packages (from mlflow) (2.18.4)\n",
      "Requirement already satisfied: six>=1.10.0 in /home/yuval/anaconda3/lib/python3.6/site-packages (from mlflow) (1.11.0)\n",
      "Collecting uuid (from mlflow)\n",
      "  Downloading https://files.pythonhosted.org/packages/ce/63/f42f5aa951ebf2c8dac81f77a8edcc1c218640a2a35a03b9ff2d4aa64c3d/uuid-1.30.tar.gz\n",
      "Collecting gunicorn (from mlflow)\n",
      "\u001b[?25l  Downloading https://files.pythonhosted.org/packages/8c/da/b8dd8deb741bff556db53902d4706774c8e1e67265f69528c14c003644e6/gunicorn-19.9.0-py2.py3-none-any.whl (112kB)\n",
      "\u001b[K    100% |████████████████████████████████| 122kB 2.4MB/s ta 0:00:01\n",
      "\u001b[?25hRequirement already satisfied: Flask in /home/yuval/anaconda3/lib/python3.6/site-packages (from mlflow) (1.0.2)\n",
      "Requirement already satisfied: numpy in /home/yuval/anaconda3/lib/python3.6/site-packages (from mlflow) (1.14.3)\n",
      "Requirement already satisfied: pandas in /home/yuval/anaconda3/lib/python3.6/site-packages (from mlflow) (0.23.0)\n",
      "Requirement already satisfied: scipy in /home/yuval/anaconda3/lib/python3.6/site-packages (from mlflow) (1.1.0)\n",
      "Requirement already satisfied: scikit-learn in /home/yuval/anaconda3/lib/python3.6/site-packages (from mlflow) (0.19.1)\n",
      "Requirement already satisfied: python-dateutil in /home/yuval/anaconda3/lib/python3.6/site-packages (from mlflow) (2.7.3)\n",
      "Requirement already satisfied: protobuf>=3.6.0 in /home/yuval/anaconda3/lib/python3.6/site-packages (from mlflow) (3.6.0)\n",
      "Collecting gitpython>=2.1.0 (from mlflow)\n",
      "\u001b[?25l  Downloading https://files.pythonhosted.org/packages/fe/e5/fafe827507644c32d6dc553a1c435cdf882e0c28918a5bab29f7fbebfb70/GitPython-2.1.11-py2.py3-none-any.whl (448kB)\n",
      "\u001b[K    100% |████████████████████████████████| 450kB 2.3MB/s ta 0:00:01\n",
      "\u001b[?25hRequirement already satisfied: pyyaml in /home/yuval/anaconda3/lib/python3.6/site-packages (from mlflow) (3.12)\n",
      "Collecting boto3 (from mlflow)\n",
      "\u001b[?25l  Downloading https://files.pythonhosted.org/packages/2b/69/ce291161cc82e3edad9f057b9158f5723882d41d8935d6aa5a53a26bb8b7/boto3-1.7.62-py2.py3-none-any.whl (128kB)\n",
      "\u001b[K    100% |████████████████████████████████| 133kB 2.7MB/s ta 0:00:01\n",
      "\u001b[?25hCollecting google-cloud-storage (from mlflow)\n",
      "\u001b[?25l  Downloading https://files.pythonhosted.org/packages/d4/1a/8238dda1547b9b6156f4cfc7923558bb67d6c608a28d677d0dc070babd31/google_cloud_storage-1.10.0-py2.py3-none-any.whl (52kB)\n",
      "\u001b[K    100% |████████████████████████████████| 61kB 2.8MB/s ta 0:00:011\n",
      "\u001b[?25hCollecting querystring_parser (from mlflow)\n",
      "  Downloading https://files.pythonhosted.org/packages/57/64/3086a9a991ff3aca7b769f5b0b51ff8445a06337ae2c58f215bcee48f527/querystring_parser-1.2.3.tar.gz\n",
      "Requirement already satisfied: colorama<=0.3.9,>=0.2.5 in /home/yuval/anaconda3/lib/python3.6/site-packages (from awscli->mlflow) (0.3.9)\n",
      "Collecting rsa<=3.5.0,>=3.1.2 (from awscli->mlflow)\n",
      "\u001b[?25l  Downloading https://files.pythonhosted.org/packages/e1/ae/baedc9cb175552e95f3395c43055a6a5e125ae4d48a1d7a924baca83e92e/rsa-3.4.2-py2.py3-none-any.whl (46kB)\n",
      "\u001b[K    100% |████████████████████████████████| 51kB 2.4MB/s ta 0:00:011\n",
      "\u001b[?25hCollecting s3transfer<0.2.0,>=0.1.12 (from awscli->mlflow)\n",
      "\u001b[?25l  Downloading https://files.pythonhosted.org/packages/d7/14/2a0004d487464d120c9fb85313a75cd3d71a7506955be458eebfe19a6b1d/s3transfer-0.1.13-py2.py3-none-any.whl (59kB)\n",
      "\u001b[K    100% |████████████████████████████████| 61kB 1.3MB/s ta 0:00:01\n",
      "\u001b[?25hCollecting botocore==1.10.62 (from awscli->mlflow)\n",
      "\u001b[?25l  Downloading https://files.pythonhosted.org/packages/24/ec/95df2edaa21e426581f41745e0de355170b8cb6eed2a2a5641c0c348df33/botocore-1.10.62-py2.py3-none-any.whl (4.4MB)\n",
      "\u001b[K    100% |████████████████████████████████| 4.4MB 2.2MB/s ta 0:00:01\n",
      "\u001b[?25hRequirement already satisfied: docutils>=0.10 in /home/yuval/anaconda3/lib/python3.6/site-packages (from awscli->mlflow) (0.14)\n",
      "Collecting tabulate>=0.7.7 (from databricks-cli->mlflow)\n",
      "\u001b[?25l  Downloading https://files.pythonhosted.org/packages/12/c2/11d6845db5edf1295bc08b2f488cf5937806586afe42936c3f34c097ebdc/tabulate-0.8.2.tar.gz (45kB)\n",
      "\u001b[K    100% |████████████████████████████████| 51kB 2.6MB/s ta 0:00:01\n",
      "\u001b[?25hCollecting configparser>=0.3.5 (from databricks-cli->mlflow)\n",
      "  Downloading https://files.pythonhosted.org/packages/7c/69/c2ce7e91c89dc073eb1aa74c0621c3eefbffe8216b3f9af9d3885265c01c/configparser-3.5.0.tar.gz\n",
      "Requirement already satisfied: chardet<3.1.0,>=3.0.2 in /home/yuval/anaconda3/lib/python3.6/site-packages (from requests>=2.17.3->mlflow) (3.0.4)\n",
      "Requirement already satisfied: idna<2.7,>=2.5 in /home/yuval/anaconda3/lib/python3.6/site-packages (from requests>=2.17.3->mlflow) (2.6)\n",
      "Requirement already satisfied: urllib3<1.23,>=1.21.1 in /home/yuval/anaconda3/lib/python3.6/site-packages (from requests>=2.17.3->mlflow) (1.22)\n",
      "Requirement already satisfied: certifi>=2017.4.17 in /home/yuval/anaconda3/lib/python3.6/site-packages (from requests>=2.17.3->mlflow) (2018.4.16)\n",
      "Requirement already satisfied: itsdangerous>=0.24 in /home/yuval/anaconda3/lib/python3.6/site-packages (from Flask->mlflow) (0.24)\n",
      "Requirement already satisfied: Jinja2>=2.10 in /home/yuval/anaconda3/lib/python3.6/site-packages (from Flask->mlflow) (2.10)\n",
      "Requirement already satisfied: Werkzeug>=0.14 in /home/yuval/anaconda3/lib/python3.6/site-packages (from Flask->mlflow) (0.14.1)\n",
      "Requirement already satisfied: pytz>=2011k in /home/yuval/anaconda3/lib/python3.6/site-packages (from pandas->mlflow) (2018.4)\n",
      "Requirement already satisfied: setuptools in /home/yuval/anaconda3/lib/python3.6/site-packages (from protobuf>=3.6.0->mlflow) (39.1.0)\n",
      "Collecting gitdb2>=2.0.0 (from gitpython>=2.1.0->mlflow)\n",
      "\u001b[?25l  Downloading https://files.pythonhosted.org/packages/a9/fb/d3afc4e2a8d506a07af19f125f7a473ae1b56f942ed2ba80776eb8ae23b1/gitdb2-2.0.4-py2.py3-none-any.whl (62kB)\n",
      "\u001b[K    100% |████████████████████████████████| 71kB 3.0MB/s ta 0:00:011\n",
      "\u001b[?25hCollecting jmespath<1.0.0,>=0.7.1 (from boto3->mlflow)\n",
      "  Downloading https://files.pythonhosted.org/packages/b7/31/05c8d001f7f87f0f07289a5fc0fc3832e9a57f2dbd4d3b0fee70e0d51365/jmespath-0.9.3-py2.py3-none-any.whl\n",
      "Collecting google-cloud-core<0.29dev,>=0.28.0 (from google-cloud-storage->mlflow)\n",
      "  Downloading https://files.pythonhosted.org/packages/0f/41/ae2418b4003a14cf21c1c46d61d1b044bf02cf0f8f91598af572b9216515/google_cloud_core-0.28.1-py2.py3-none-any.whl\n",
      "Collecting google-api-core<2.0.0dev,>=0.1.1 (from google-cloud-storage->mlflow)\n",
      "\u001b[?25l  Downloading https://files.pythonhosted.org/packages/d2/03/a83c6d0efa63a13d085b81927fdc9e12ffb98aa0f67798a7573fc6b231e2/google_api_core-1.2.1-py2.py3-none-any.whl (50kB)\n",
      "\u001b[K    100% |████████████████████████████████| 51kB 2.1MB/s ta 0:00:01\n",
      "\u001b[?25hCollecting google-resumable-media>=0.3.1 (from google-cloud-storage->mlflow)\n",
      "  Downloading https://files.pythonhosted.org/packages/77/95/2e4020a54366423ddba715f89fb7ca456c8f048b15cada6cd6a54cf10e8c/google_resumable_media-0.3.1-py2.py3-none-any.whl\n",
      "Collecting pyasn1>=0.1.3 (from rsa<=3.5.0,>=3.1.2->awscli->mlflow)\n",
      "\u001b[?25l  Downloading https://files.pythonhosted.org/packages/a0/70/2c27740f08e477499ce19eefe05dbcae6f19fdc49e9e82ce4768be0643b9/pyasn1-0.4.3-py2.py3-none-any.whl (72kB)\n",
      "\u001b[K    100% |████████████████████████████████| 81kB 2.7MB/s ta 0:00:01\n",
      "\u001b[?25hRequirement already satisfied: MarkupSafe>=0.23 in /home/yuval/anaconda3/lib/python3.6/site-packages (from Jinja2>=2.10->Flask->mlflow) (1.0)\n"
     ]
    },
    {
     "name": "stdout",
     "output_type": "stream",
     "text": [
      "Collecting smmap2>=2.0.0 (from gitdb2>=2.0.0->gitpython>=2.1.0->mlflow)\n",
      "  Downloading https://files.pythonhosted.org/packages/0f/14/e3112808b727f72df9531fc2f00b84d4966e66001748b6883a21c767e902/smmap2-2.0.4-py2.py3-none-any.whl\n",
      "Collecting googleapis-common-protos<2.0dev,>=1.5.3 (from google-api-core<2.0.0dev,>=0.1.1->google-cloud-storage->mlflow)\n",
      "  Downloading https://files.pythonhosted.org/packages/00/03/d25bed04ec8d930bcfa488ba81a2ecbf7eb36ae3ffd7e8f5be0d036a89c9/googleapis-common-protos-1.5.3.tar.gz\n",
      "Collecting google-auth<2.0.0dev,>=0.4.0 (from google-api-core<2.0.0dev,>=0.1.1->google-cloud-storage->mlflow)\n",
      "\u001b[?25l  Downloading https://files.pythonhosted.org/packages/53/06/6e6d5bfa4d23ee40efd772d6b681a7afecd859a9176e564b8c329382370f/google_auth-1.5.0-py2.py3-none-any.whl (65kB)\n",
      "\u001b[K    100% |████████████████████████████████| 71kB 3.6MB/s ta 0:00:011\n",
      "\u001b[?25hCollecting pyasn1-modules>=0.2.1 (from google-auth<2.0.0dev,>=0.4.0->google-api-core<2.0.0dev,>=0.1.1->google-cloud-storage->mlflow)\n",
      "\u001b[?25l  Downloading https://files.pythonhosted.org/packages/19/02/fa63f7ba30a0d7b925ca29d034510fc1ffde53264b71b4155022ddf3ab5d/pyasn1_modules-0.2.2-py2.py3-none-any.whl (62kB)\n",
      "\u001b[K    100% |████████████████████████████████| 71kB 3.4MB/s ta 0:00:011\n",
      "\u001b[?25hCollecting cachetools>=2.0.0 (from google-auth<2.0.0dev,>=0.4.0->google-api-core<2.0.0dev,>=0.1.1->google-cloud-storage->mlflow)\n",
      "  Downloading https://files.pythonhosted.org/packages/0a/58/cbee863250b31d80f47401d04f34038db6766f95dea1cc909ea099c7e571/cachetools-2.1.0-py2.py3-none-any.whl\n",
      "Building wheels for collected packages: mlflow, databricks-cli, uuid, querystring-parser, tabulate, configparser, googleapis-common-protos\n",
      "  Running setup.py bdist_wheel for mlflow ... \u001b[?25ldone\n",
      "\u001b[?25h  Stored in directory: /home/yuval/.cache/pip/wheels/0a/f7/d0/514d15316a654935287577fc6869a034bb9efaa298a2696ba9\n",
      "  Running setup.py bdist_wheel for databricks-cli ... \u001b[?25ldone\n",
      "\u001b[?25h  Stored in directory: /home/yuval/.cache/pip/wheels/ed/db/48/ec3b28dbc74ec2e2fe4d175efdcdddc64a37f855105fe650d5\n",
      "  Running setup.py bdist_wheel for uuid ... \u001b[?25ldone\n",
      "\u001b[?25h  Stored in directory: /home/yuval/.cache/pip/wheels/2a/80/9b/015026567c29fdffe31d91edbe7ba1b17728db79194fca1f21\n",
      "  Running setup.py bdist_wheel for querystring-parser ... \u001b[?25ldone\n",
      "\u001b[?25h  Stored in directory: /home/yuval/.cache/pip/wheels/ee/09/99/bf937e4f02788fa8b33dc5240842ba3977ba5c3c4ad4a115d7\n",
      "  Running setup.py bdist_wheel for tabulate ... \u001b[?25ldone\n",
      "\u001b[?25h  Stored in directory: /home/yuval/.cache/pip/wheels/2a/85/33/2f6da85d5f10614cbe5a625eab3b3aebfdf43e7b857f25f829\n",
      "  Running setup.py bdist_wheel for configparser ... \u001b[?25ldone\n",
      "\u001b[?25h  Stored in directory: /home/yuval/.cache/pip/wheels/a3/61/79/424ef897a2f3b14684a7de5d89e8600b460b89663e6ce9d17c\n",
      "  Running setup.py bdist_wheel for googleapis-common-protos ... \u001b[?25ldone\n",
      "\u001b[?25h  Stored in directory: /home/yuval/.cache/pip/wheels/62/45/af/649bbf07b6595fda010be1bda667cd56d0444d07afc6f8b687\n",
      "Successfully built mlflow databricks-cli uuid querystring-parser tabulate configparser googleapis-common-protos\n",
      "\u001b[31mdistributed 1.21.8 requires msgpack, which is not installed.\u001b[0m\n",
      "Installing collected packages: pyasn1, rsa, jmespath, botocore, s3transfer, awscli, tabulate, configparser, databricks-cli, uuid, gunicorn, smmap2, gitdb2, gitpython, boto3, googleapis-common-protos, pyasn1-modules, cachetools, google-auth, google-api-core, google-cloud-core, google-resumable-media, google-cloud-storage, querystring-parser, mlflow\n",
      "Successfully installed awscli-1.15.63 boto3-1.7.62 botocore-1.10.62 cachetools-2.1.0 configparser-3.5.0 databricks-cli-0.7.2 gitdb2-2.0.4 gitpython-2.1.11 google-api-core-1.2.1 google-auth-1.5.0 google-cloud-core-0.28.1 google-cloud-storage-1.10.0 google-resumable-media-0.3.1 googleapis-common-protos-1.5.3 gunicorn-19.9.0 jmespath-0.9.3 mlflow-0.3.0 pyasn1-0.4.3 pyasn1-modules-0.2.2 querystring-parser-1.2.3 rsa-3.4.2 s3transfer-0.1.13 smmap2-2.0.4 tabulate-0.8.2 uuid-1.30\n",
      "\u001b[33mYou are using pip version 10.0.1, however version 18.0 is available.\n",
      "You should consider upgrading via the 'pip install --upgrade pip' command.\u001b[0m\n"
     ]
    }
   ],
   "source": [
    "!pip install mlflow\n"
   ]
  },
  {
   "cell_type": "markdown",
   "metadata": {},
   "source": [
    "#### Using the Tracking API\n",
    "#### The MLflow Tracking API lets you log metrics and artifacts (files) from your data science code and see a history of your runs. #### You can try it out by writing a simple Python script as follows (this example is also included in "
   ]
  },
  {
   "cell_type": "code",
   "execution_count": 7,
   "metadata": {},
   "outputs": [],
   "source": [
    "import mlflow\n",
    "\n",
    "# Log parameters (key-value pairs)\n",
    "mlflow.log_param(\"num_dimensions\", 8)\n",
    "mlflow.log_param(\"regularization\", 0.1)\n",
    "\n",
    "# Log a metric; metrics can be updated throughout the run\n",
    "mlflow.log_metric(\"accuracy\", 0.1)\n",
    "...\n",
    "mlflow.log_metric(\"accuracy\", 0.45)\n",
    "\n",
    "# Log an artifact (output file)\n",
    "with open(\"output.txt\", \"w\") as f:\n",
    "    f.write(\"Hello world!\")\n",
    "    mlflow.log_artifact(\"output.txt\")\n"
   ]
  },
  {
   "cell_type": "code",
   "execution_count": null,
   "metadata": {},
   "outputs": [
    {
     "name": "stdout",
     "output_type": "stream",
     "text": [
      "[2018-07-24 01:26:04 +0300] [32595] [INFO] Starting gunicorn 19.9.0\r\n",
      "[2018-07-24 01:26:04 +0300] [32595] [INFO] Listening at: http://127.0.0.1:5000 (32595)\r\n",
      "[2018-07-24 01:26:04 +0300] [32595] [INFO] Using worker: sync\r\n",
      "[2018-07-24 01:26:04 +0300] [32598] [INFO] Booting worker with pid: 32598\r\n"
     ]
    }
   ],
   "source": [
    "!mlflow ui"
   ]
  },
  {
   "cell_type": "code",
   "execution_count": null,
   "metadata": {},
   "outputs": [],
   "source": []
  }
 ],
 "metadata": {
  "kernelspec": {
   "display_name": "Python 3",
   "language": "python",
   "name": "python3"
  },
  "language_info": {
   "codemirror_mode": {
    "name": "ipython",
    "version": 3
   },
   "file_extension": ".py",
   "mimetype": "text/x-python",
   "name": "python",
   "nbconvert_exporter": "python",
   "pygments_lexer": "ipython3",
   "version": "3.6.5"
  }
 },
 "nbformat": 4,
 "nbformat_minor": 2
}
