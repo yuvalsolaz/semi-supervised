{
 "cells": [
  {
   "cell_type": "code",
   "execution_count": 1,
   "metadata": {
    "collapsed": true
   },
   "outputs": [],
   "source": [
    "if 0:\n",
    "    !pip install mlflow\n"
   ]
  },
  {
   "cell_type": "markdown",
   "metadata": {},
   "source": [
    "#### Using the Tracking API\n",
    "#### The MLflow Tracking API lets you log metrics and artifacts (files) from your data science code and see a history of your runs. #### You can try it out by writing a simple Python script as follows (this example is also included in "
   ]
  },
  {
   "cell_type": "code",
   "execution_count": 2,
   "metadata": {
    "collapsed": true
   },
   "outputs": [],
   "source": [
    "import mlflow\n",
    "\n",
    "# Log parameters (key-value pairs)\n",
    "mlflow.log_param(\"num_dimensions\", 8)\n",
    "mlflow.log_param(\"regularization\", 0.1)\n",
    "\n",
    "# Log a metric; metrics can be updated throughout the run\n",
    "mlflow.log_metric(\"accuracy\", 0.1)\n",
    "...\n",
    "mlflow.log_metric(\"accuracy\", 0.45)\n",
    "\n",
    "# Log an artifact (output file)\n",
    "with open(\"output.txt\", \"w\") as f:\n",
    "    f.write(\"Hello world!\")\n",
    "    mlflow.log_artifact(\"output.txt\")\n"
   ]
  },
  {
   "cell_type": "code",
   "execution_count": null,
   "metadata": {},
   "outputs": [
    {
     "name": "stdout",
     "output_type": "stream",
     "text": [
      "[2018-07-24 01:26:04 +0300] [32595] [INFO] Starting gunicorn 19.9.0\r\n",
      "[2018-07-24 01:26:04 +0300] [32595] [INFO] Listening at: http://127.0.0.1:5000 (32595)\r\n",
      "[2018-07-24 01:26:04 +0300] [32595] [INFO] Using worker: sync\r\n",
      "[2018-07-24 01:26:04 +0300] [32598] [INFO] Booting worker with pid: 32598\r\n"
     ]
    }
   ],
   "source": [
    "!mlflow ui"
   ]
  },
  {
   "cell_type": "code",
   "execution_count": null,
   "metadata": {
    "collapsed": true
   },
   "outputs": [],
   "source": []
  }
 ],
 "metadata": {
  "kernelspec": {
   "display_name": "Python 3",
   "language": "python",
   "name": "python3"
  },
  "language_info": {
   "codemirror_mode": {
    "name": "ipython",
    "version": 3
   },
   "file_extension": ".py",
   "mimetype": "text/x-python",
   "name": "python",
   "nbconvert_exporter": "python",
   "pygments_lexer": "ipython3",
   "version": "3.6.3"
  }
 },
 "nbformat": 4,
 "nbformat_minor": 2
}
